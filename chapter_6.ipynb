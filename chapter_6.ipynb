{
  "nbformat": 4,
  "nbformat_minor": 0,
  "metadata": {
    "colab": {
      "provenance": []
    },
    "kernelspec": {
      "name": "python3",
      "display_name": "Python 3"
    },
    "language_info": {
      "name": "python"
    }
  },
  "cells": [
    {
      "cell_type": "code",
      "execution_count": 2,
      "metadata": {
        "colab": {
          "base_uri": "https://localhost:8080/"
        },
        "id": "b62STxr58Uu_",
        "outputId": "f6627d35-16db-4060-ef5a-5fa7fdb4beb5"
      },
      "outputs": [
        {
          "output_type": "stream",
          "name": "stdout",
          "text": [
            "Model: \"sequential\"\n",
            "_________________________________________________________________\n",
            " Layer (type)                Output Shape              Param #   \n",
            "=================================================================\n",
            " dense (Dense)               (None, 64)                896       \n",
            "                                                                 \n",
            " dense_1 (Dense)             (None, 64)                4160      \n",
            "                                                                 \n",
            " dense_2 (Dense)             (None, 1)                 65        \n",
            "                                                                 \n",
            "=================================================================\n",
            "Total params: 5121 (20.00 KB)\n",
            "Trainable params: 5121 (20.00 KB)\n",
            "Non-trainable params: 0 (0.00 Byte)\n",
            "_________________________________________________________________\n",
            "Epoch 1/20\n",
            "404/404 - 2s - loss: 169.6403 - mean_absolute_error: 9.6221 - val_loss: 78.7806 - val_mean_absolute_error: 6.1764 - 2s/epoch - 6ms/step\n",
            "Epoch 2/20\n",
            "404/404 - 1s - loss: 70.3829 - mean_absolute_error: 5.8874 - val_loss: 63.9948 - val_mean_absolute_error: 5.7465 - 1s/epoch - 3ms/step\n",
            "Epoch 3/20\n",
            "404/404 - 1s - loss: 65.9396 - mean_absolute_error: 5.7826 - val_loss: 62.7698 - val_mean_absolute_error: 5.6018 - 1s/epoch - 3ms/step\n",
            "Epoch 4/20\n",
            "404/404 - 1s - loss: 64.5890 - mean_absolute_error: 5.5697 - val_loss: 58.9158 - val_mean_absolute_error: 5.5645 - 1s/epoch - 3ms/step\n",
            "Epoch 5/20\n",
            "404/404 - 1s - loss: 63.6592 - mean_absolute_error: 5.5806 - val_loss: 57.0413 - val_mean_absolute_error: 5.5586 - 1s/epoch - 3ms/step\n",
            "Epoch 6/20\n",
            "404/404 - 1s - loss: 62.4634 - mean_absolute_error: 5.3708 - val_loss: 56.3265 - val_mean_absolute_error: 5.5315 - 1s/epoch - 4ms/step\n",
            "Epoch 7/20\n",
            "404/404 - 1s - loss: 62.0079 - mean_absolute_error: 5.4684 - val_loss: 55.6314 - val_mean_absolute_error: 5.4981 - 1s/epoch - 3ms/step\n",
            "Epoch 8/20\n",
            "404/404 - 1s - loss: 60.6377 - mean_absolute_error: 5.2983 - val_loss: 56.0690 - val_mean_absolute_error: 5.6421 - 1s/epoch - 3ms/step\n",
            "Epoch 9/20\n",
            "404/404 - 1s - loss: 59.0683 - mean_absolute_error: 5.2702 - val_loss: 61.3409 - val_mean_absolute_error: 6.1580 - 705ms/epoch - 2ms/step\n",
            "Epoch 10/20\n",
            "404/404 - 1s - loss: 59.8866 - mean_absolute_error: 5.3583 - val_loss: 55.7702 - val_mean_absolute_error: 5.7497 - 956ms/epoch - 2ms/step\n",
            "Epoch 11/20\n",
            "404/404 - 1s - loss: 58.9618 - mean_absolute_error: 5.2310 - val_loss: 70.6256 - val_mean_absolute_error: 6.8652 - 905ms/epoch - 2ms/step\n",
            "Epoch 12/20\n",
            "404/404 - 1s - loss: 59.8417 - mean_absolute_error: 5.3597 - val_loss: 60.0921 - val_mean_absolute_error: 5.4642 - 891ms/epoch - 2ms/step\n",
            "Epoch 13/20\n",
            "404/404 - 1s - loss: 58.5734 - mean_absolute_error: 5.1776 - val_loss: 53.8044 - val_mean_absolute_error: 5.3469 - 1s/epoch - 3ms/step\n",
            "Epoch 14/20\n",
            "404/404 - 1s - loss: 56.6358 - mean_absolute_error: 5.1411 - val_loss: 53.7312 - val_mean_absolute_error: 5.3301 - 1s/epoch - 3ms/step\n",
            "Epoch 15/20\n",
            "404/404 - 1s - loss: 57.5704 - mean_absolute_error: 5.2589 - val_loss: 56.6844 - val_mean_absolute_error: 5.3681 - 866ms/epoch - 2ms/step\n",
            "Epoch 16/20\n",
            "404/404 - 1s - loss: 55.5945 - mean_absolute_error: 5.1387 - val_loss: 52.8204 - val_mean_absolute_error: 5.2820 - 875ms/epoch - 2ms/step\n",
            "Epoch 17/20\n",
            "404/404 - 1s - loss: 55.1105 - mean_absolute_error: 5.0572 - val_loss: 53.5628 - val_mean_absolute_error: 5.2720 - 1s/epoch - 3ms/step\n",
            "Epoch 18/20\n",
            "404/404 - 1s - loss: 55.2059 - mean_absolute_error: 5.0917 - val_loss: 52.6139 - val_mean_absolute_error: 5.2371 - 693ms/epoch - 2ms/step\n",
            "Epoch 19/20\n",
            "404/404 - 1s - loss: 56.9682 - mean_absolute_error: 5.1681 - val_loss: 53.0957 - val_mean_absolute_error: 5.2470 - 1s/epoch - 3ms/step\n",
            "Epoch 20/20\n",
            "404/404 - 1s - loss: 54.9799 - mean_absolute_error: 5.0392 - val_loss: 51.9999 - val_mean_absolute_error: 5.2269 - 1s/epoch - 3ms/step\n",
            "4/4 [==============================] - 0s 3ms/step\n",
            "Prediction:  [10.907444] , true value:  7.2\n",
            "Prediction:  [20.62409] , true value:  18.8\n",
            "Prediction:  [25.610434] , true value:  19.0\n",
            "Prediction:  [21.25248] , true value:  27.0\n"
          ]
        }
      ],
      "source": [
        "import tensorflow as tf\n",
        "from tensorflow import keras\n",
        "from keras.layers import Dense\n",
        "from keras.models import Sequential\n",
        "import numpy as np\n",
        "import logging\n",
        "tf.get_logger().setLevel(logging.ERROR)\n",
        "tf.random.set_seed(7)\n",
        "\n",
        "EPOCHS = 20\n",
        "BATCH_SIZE = 1\n",
        "\n",
        "# Read and standardize the data\n",
        "from tensorflow.keras.datasets import boston_housing\n",
        "(raw_x_train,y_train),(raw_x_test,y_test) = boston_housing.load_data()\n",
        "\n",
        "mean = np.mean(raw_x_train)\n",
        "std = np.std(raw_x_train)\n",
        "x_train = (raw_x_train - mean)/std\n",
        "x_test = (raw_x_test - mean)/std\n",
        "\n",
        "model = Sequential()\n",
        "model.add(Dense(64,activation=\"relu\",input_shape=[13]))\n",
        "model.add(Dense(64,activation=\"relu\"))\n",
        "model.add(Dense(1,activation=\"linear\"))\n",
        "\n",
        "model.compile(loss='mean_squared_error', optimizer='adam',\n",
        "              metrics =['mean_absolute_error'])\n",
        "model.summary()\n",
        "history = model.fit(x_train, y_train, validation_data=(\n",
        "    x_test, y_test), epochs=EPOCHS, batch_size=BATCH_SIZE,\n",
        "    verbose=2, shuffle=True)\n",
        "\n",
        "# Print first 4 predictions.\n",
        "predictions = model.predict(x_test)\n",
        "for i in range(0, 4):\n",
        "    print('Prediction: ', predictions[i],\n",
        "          ', true value: ', y_test[i])\n"
      ]
    },
    {
      "cell_type": "code",
      "source": [
        "from tensorflow.keras.regularizers import l2\n",
        "model.add(Dense(64, activation='relu',\n",
        "                kernel_regularizer=l2(0.1),\n",
        "                bias_regularizer=l2(0.1),\n",
        "                input_shape=[13]))\n",
        "model.add(Dense(64, activation='relu',\n",
        "                kernel_regularizer=l2(0.1),\n",
        "                bias_regularizer=l2(0.1)))\n",
        "model.add(Dense(1, activation='linear',\n",
        "                kernel_regularizer=l2(0.1),\n",
        "                bias_regularizer=l2(0.1)))"
      ],
      "metadata": {
        "id": "87wO5E0LA4bs"
      },
      "execution_count": 4,
      "outputs": []
    },
    {
      "cell_type": "code",
      "source": [
        "from tensorflow.keras.layers import Dropout\n",
        "\n",
        "model.add(Dense(64, activation='relu', input_shape=[13]))\n",
        "model.add(Dropout(0.2))\n",
        "model.add(Dense(64, activation='relu'))\n",
        "model.add(Dropout(0.2))\n",
        "model.add(Dense(1, activation='linear'))"
      ],
      "metadata": {
        "id": "Z0R6KhV1Han6"
      },
      "execution_count": 5,
      "outputs": []
    },
    {
      "cell_type": "code",
      "source": [],
      "metadata": {
        "id": "8a6bpzurHzQC"
      },
      "execution_count": null,
      "outputs": []
    }
  ]
}