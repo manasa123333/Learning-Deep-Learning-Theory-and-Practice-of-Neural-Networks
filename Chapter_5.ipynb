{
  "nbformat": 4,
  "nbformat_minor": 0,
  "metadata": {
    "colab": {
      "provenance": []
    },
    "kernelspec": {
      "name": "python3",
      "display_name": "Python 3"
    },
    "language_info": {
      "name": "python"
    }
  },
  "cells": [
    {
      "cell_type": "code",
      "execution_count": 10,
      "metadata": {
        "id": "zY9pTUCwwY_1"
      },
      "outputs": [],
      "source": [
        "import tensorflow as tf\n",
        "from tensorflow import keras\n",
        "from tensorflow.keras.utils import to_categorical\n",
        "import logging\n",
        "tf.get_logger().setLevel(logging.ERROR)\n",
        "tf.random.set_seed(7)\n",
        "\n",
        "EPOCHS = 20\n",
        "BATCH_SIZE = 1\n"
      ]
    },
    {
      "cell_type": "code",
      "source": [
        "from tensorflow.keras.datasets import mnist\n",
        "(train_image,train_labels),(test_image,test_labels) = mnist.load_data()"
      ],
      "metadata": {
        "id": "FWZNZ-bfwiwY"
      },
      "execution_count": 11,
      "outputs": []
    },
    {
      "cell_type": "code",
      "source": [
        "# Standardize the data\n",
        "import numpy as np\n",
        "mean = np.mean(train_image)\n",
        "std = np.std(train_image)\n",
        "train_image = (train_image - mean)/std\n",
        "test_image = (test_image - mean)/std\n",
        "\n",
        "# One hot encode the labels\n",
        "\n",
        "train_labels = to_categorical(train_labels,num_classes=10)\n",
        "test_labels = to_categorical(test_labels,num_classes=10)"
      ],
      "metadata": {
        "id": "OED2Kra8w5ld"
      },
      "execution_count": 12,
      "outputs": []
    },
    {
      "cell_type": "code",
      "source": [
        "train_labels.shape"
      ],
      "metadata": {
        "colab": {
          "base_uri": "https://localhost:8080/"
        },
        "id": "pzB7W3s_nZky",
        "outputId": "b7732b5c-1ae9-4768-a161-4030d067756d"
      },
      "execution_count": 13,
      "outputs": [
        {
          "output_type": "execute_result",
          "data": {
            "text/plain": [
              "(60000, 10)"
            ]
          },
          "metadata": {},
          "execution_count": 13
        }
      ]
    },
    {
      "cell_type": "code",
      "source": [
        "# Objects used to initialize weights\n",
        "\n",
        "initializer = tf.keras.initializers.RandomUniform(minval = 0.1, maxval = 0.1)\n",
        "\n",
        "model = keras.Sequential([\n",
        "    keras.layers.Flatten(input_shape = (28,28)),\n",
        "    keras.layers.Dense(25, activation = 'tanh',\n",
        "                kernel_initializer = initializer,\n",
        "                bias_initializer = 'zeros'),\n",
        "    keras.layers.Dense(10, activation = 'sigmoid',\n",
        "                kernel_initializer = initializer,\n",
        "                bias_initializer = 'zeros')\n",
        "])"
      ],
      "metadata": {
        "id": "0CLGWvIWzH9O"
      },
      "execution_count": 17,
      "outputs": []
    },
    {
      "cell_type": "code",
      "source": [
        "opt = keras.optimizers.SGD(learning_rate=0.01)\n",
        "\n",
        "model.compile(loss = \"mean_squared_error\",optimizer = opt,metrics = ['accuracy'])\n",
        "\n",
        "history = model.fit(train_image, train_labels,\n",
        "                    validation_data=(test_image, test_labels),\n",
        "                    epochs=EPOCHS, batch_size=BATCH_SIZE,\n",
        "                    verbose=2, shuffle=True)"
      ],
      "metadata": {
        "colab": {
          "base_uri": "https://localhost:8080/"
        },
        "id": "kVfxVKx-2VEI",
        "outputId": "eb91bb2d-09bb-4c31-80e2-8752eabb3f55"
      },
      "execution_count": 18,
      "outputs": [
        {
          "output_type": "stream",
          "name": "stdout",
          "text": [
            "Epoch 1/20\n",
            "60000/60000 - 138s - loss: 0.1055 - accuracy: 0.1819 - val_loss: 0.0892 - val_accuracy: 0.1783 - 138s/epoch - 2ms/step\n",
            "Epoch 2/20\n",
            "60000/60000 - 130s - loss: 0.0883 - accuracy: 0.1827 - val_loss: 0.0882 - val_accuracy: 0.1810 - 130s/epoch - 2ms/step\n",
            "Epoch 3/20\n",
            "60000/60000 - 136s - loss: 0.0878 - accuracy: 0.1853 - val_loss: 0.0879 - val_accuracy: 0.1849 - 136s/epoch - 2ms/step\n",
            "Epoch 4/20\n",
            "60000/60000 - 136s - loss: 0.0875 - accuracy: 0.1883 - val_loss: 0.0875 - val_accuracy: 0.1890 - 136s/epoch - 2ms/step\n",
            "Epoch 5/20\n",
            "60000/60000 - 132s - loss: 0.0873 - accuracy: 0.1907 - val_loss: 0.0873 - val_accuracy: 0.1916 - 132s/epoch - 2ms/step\n",
            "Epoch 6/20\n",
            "60000/60000 - 131s - loss: 0.0871 - accuracy: 0.1936 - val_loss: 0.0871 - val_accuracy: 0.1935 - 131s/epoch - 2ms/step\n",
            "Epoch 7/20\n",
            "60000/60000 - 130s - loss: 0.0869 - accuracy: 0.1952 - val_loss: 0.0869 - val_accuracy: 0.1959 - 130s/epoch - 2ms/step\n",
            "Epoch 8/20\n",
            "60000/60000 - 136s - loss: 0.0868 - accuracy: 0.1966 - val_loss: 0.0867 - val_accuracy: 0.1982 - 136s/epoch - 2ms/step\n",
            "Epoch 9/20\n",
            "60000/60000 - 136s - loss: 0.0866 - accuracy: 0.1976 - val_loss: 0.0865 - val_accuracy: 0.1996 - 136s/epoch - 2ms/step\n",
            "Epoch 10/20\n",
            "60000/60000 - 135s - loss: 0.0864 - accuracy: 0.1991 - val_loss: 0.0863 - val_accuracy: 0.1773 - 135s/epoch - 2ms/step\n",
            "Epoch 11/20\n",
            "60000/60000 - 131s - loss: 0.0863 - accuracy: 0.1994 - val_loss: 0.0861 - val_accuracy: 0.2005 - 131s/epoch - 2ms/step\n",
            "Epoch 12/20\n",
            "60000/60000 - 137s - loss: 0.0861 - accuracy: 0.2002 - val_loss: 0.0859 - val_accuracy: 0.2011 - 137s/epoch - 2ms/step\n",
            "Epoch 13/20\n",
            "60000/60000 - 137s - loss: 0.0859 - accuracy: 0.2009 - val_loss: 0.0857 - val_accuracy: 0.2013 - 137s/epoch - 2ms/step\n",
            "Epoch 14/20\n",
            "60000/60000 - 137s - loss: 0.0858 - accuracy: 0.2014 - val_loss: 0.0856 - val_accuracy: 0.2028 - 137s/epoch - 2ms/step\n",
            "Epoch 15/20\n",
            "60000/60000 - 136s - loss: 0.0856 - accuracy: 0.2011 - val_loss: 0.0855 - val_accuracy: 0.2017 - 136s/epoch - 2ms/step\n",
            "Epoch 16/20\n",
            "60000/60000 - 130s - loss: 0.0855 - accuracy: 0.2015 - val_loss: 0.0853 - val_accuracy: 0.2026 - 130s/epoch - 2ms/step\n",
            "Epoch 17/20\n",
            "60000/60000 - 133s - loss: 0.0854 - accuracy: 0.2014 - val_loss: 0.0852 - val_accuracy: 0.2018 - 133s/epoch - 2ms/step\n",
            "Epoch 18/20\n",
            "60000/60000 - 135s - loss: 0.0852 - accuracy: 0.2020 - val_loss: 0.0851 - val_accuracy: 0.2009 - 135s/epoch - 2ms/step\n",
            "Epoch 19/20\n",
            "60000/60000 - 130s - loss: 0.0851 - accuracy: 0.2020 - val_loss: 0.0849 - val_accuracy: 0.2015 - 130s/epoch - 2ms/step\n",
            "Epoch 20/20\n",
            "60000/60000 - 129s - loss: 0.0850 - accuracy: 0.2007 - val_loss: 0.0848 - val_accuracy: 0.2008 - 129s/epoch - 2ms/step\n"
          ]
        }
      ]
    },
    {
      "cell_type": "code",
      "source": [
        "model = keras.Sequential([\n",
        "    keras.layers.Flatten(input_shape = (28,28)),\n",
        "    keras.layers.Dense(25, activation = 'tanh',\n",
        "                kernel_initializer = \"glorot_uniform\",\n",
        "                bias_initializer = 'zeros'),\n",
        "    keras.layers.Dense(10, activation = 'sigmoid',\n",
        "                kernel_initializer = 'glorot_unniform',\n",
        "                bias_initializer = 'zeros')\n",
        "])"
      ],
      "metadata": {
        "id": "0CcGRhWM6KCW"
      },
      "execution_count": null,
      "outputs": []
    },
    {
      "cell_type": "code",
      "source": [
        "def cross_entropy(y_truth, y_predict):\n",
        "    if y_truth == 1.0:\n",
        "        return -np.log(y_predict)\n",
        "    else:\n",
        "        return -np.log(1.0-y_predict)"
      ],
      "metadata": {
        "id": "U_J5yERXCTuE"
      },
      "execution_count": null,
      "outputs": []
    },
    {
      "cell_type": "code",
      "source": [
        "model = keras.Sequential([\n",
        "    keras.layers.Flatten(input_shape=(28, 28)),\n",
        "    keras.layers.Dense(25, activation='relu',\n",
        "                       kernel_initializer='he_normal',\n",
        "                       bias_initializer='zeros'),\n",
        "    keras.layers.Dense(10, activation='softmax',\n",
        "                       kernel_initializer='glorot_uniform',\n",
        "                       bias_initializer='zeros')])\n",
        "\n",
        "model.compile(loss='categorical_crossentropy',\n",
        "                    optimizer = 'adam',\n",
        "                    metrics =['accuracy'])\n",
        "\n",
        "history = model.fit(train_image, train_labels,\n",
        "                    validation_data=(test_image, test_labels),\n",
        "                    epochs=EPOCHS, batch_size=BATCH_SIZE,\n",
        "                    verbose=2, shuffle=True)"
      ],
      "metadata": {
        "id": "ku9iXAx1LHDy",
        "colab": {
          "base_uri": "https://localhost:8080/"
        },
        "outputId": "c5d5d540-7584-4571-e7d8-b12c3069eb8c"
      },
      "execution_count": 16,
      "outputs": [
        {
          "output_type": "stream",
          "name": "stdout",
          "text": [
            "Epoch 1/20\n",
            "60000/60000 - 149s - loss: 0.3151 - accuracy: 0.9101 - val_loss: 0.2309 - val_accuracy: 0.9367 - 149s/epoch - 2ms/step\n",
            "Epoch 2/20\n",
            "60000/60000 - 151s - loss: 0.2224 - accuracy: 0.9405 - val_loss: 0.1861 - val_accuracy: 0.9519 - 151s/epoch - 3ms/step\n",
            "Epoch 3/20\n",
            "60000/60000 - 151s - loss: 0.2007 - accuracy: 0.9472 - val_loss: 0.2285 - val_accuracy: 0.9430 - 151s/epoch - 3ms/step\n",
            "Epoch 4/20\n",
            "60000/60000 - 147s - loss: 0.1889 - accuracy: 0.9507 - val_loss: 0.1961 - val_accuracy: 0.9529 - 147s/epoch - 2ms/step\n",
            "Epoch 5/20\n",
            "60000/60000 - 149s - loss: 0.1830 - accuracy: 0.9535 - val_loss: 0.2057 - val_accuracy: 0.9482 - 149s/epoch - 2ms/step\n",
            "Epoch 6/20\n",
            "60000/60000 - 149s - loss: 0.1751 - accuracy: 0.9559 - val_loss: 0.1916 - val_accuracy: 0.9525 - 149s/epoch - 2ms/step\n",
            "Epoch 7/20\n",
            "60000/60000 - 149s - loss: 0.1719 - accuracy: 0.9567 - val_loss: 0.2188 - val_accuracy: 0.9482 - 149s/epoch - 2ms/step\n",
            "Epoch 8/20\n",
            "60000/60000 - 145s - loss: 0.1686 - accuracy: 0.9578 - val_loss: 0.2413 - val_accuracy: 0.9468 - 145s/epoch - 2ms/step\n",
            "Epoch 9/20\n",
            "60000/60000 - 147s - loss: 0.1653 - accuracy: 0.9591 - val_loss: 0.2318 - val_accuracy: 0.9522 - 147s/epoch - 2ms/step\n",
            "Epoch 10/20\n",
            "60000/60000 - 146s - loss: 0.1636 - accuracy: 0.9599 - val_loss: 0.2494 - val_accuracy: 0.9515 - 146s/epoch - 2ms/step\n",
            "Epoch 11/20\n",
            "60000/60000 - 147s - loss: 0.1625 - accuracy: 0.9603 - val_loss: 0.2379 - val_accuracy: 0.9527 - 147s/epoch - 2ms/step\n",
            "Epoch 12/20\n",
            "60000/60000 - 151s - loss: 0.1588 - accuracy: 0.9611 - val_loss: 0.2704 - val_accuracy: 0.9514 - 151s/epoch - 3ms/step\n",
            "Epoch 13/20\n",
            "60000/60000 - 150s - loss: 0.1590 - accuracy: 0.9605 - val_loss: 0.2578 - val_accuracy: 0.9530 - 150s/epoch - 3ms/step\n",
            "Epoch 14/20\n",
            "60000/60000 - 145s - loss: 0.1533 - accuracy: 0.9618 - val_loss: 0.3043 - val_accuracy: 0.9489 - 145s/epoch - 2ms/step\n",
            "Epoch 15/20\n",
            "60000/60000 - 149s - loss: 0.1540 - accuracy: 0.9617 - val_loss: 0.2812 - val_accuracy: 0.9521 - 149s/epoch - 2ms/step\n",
            "Epoch 16/20\n",
            "60000/60000 - 149s - loss: 0.1579 - accuracy: 0.9622 - val_loss: 0.2999 - val_accuracy: 0.9555 - 149s/epoch - 2ms/step\n",
            "Epoch 17/20\n",
            "60000/60000 - 145s - loss: 0.1572 - accuracy: 0.9631 - val_loss: 0.3621 - val_accuracy: 0.9511 - 145s/epoch - 2ms/step\n",
            "Epoch 18/20\n",
            "60000/60000 - 145s - loss: 0.1582 - accuracy: 0.9632 - val_loss: 0.2818 - val_accuracy: 0.9506 - 145s/epoch - 2ms/step\n",
            "Epoch 19/20\n",
            "60000/60000 - 148s - loss: 0.1560 - accuracy: 0.9629 - val_loss: 0.3245 - val_accuracy: 0.9484 - 148s/epoch - 2ms/step\n",
            "Epoch 20/20\n",
            "60000/60000 - 143s - loss: 0.1564 - accuracy: 0.9633 - val_loss: 0.4134 - val_accuracy: 0.9477 - 143s/epoch - 2ms/step\n"
          ]
        }
      ]
    },
    {
      "cell_type": "code",
      "source": [],
      "metadata": {
        "id": "wX0Y_Mkmmy9h"
      },
      "execution_count": null,
      "outputs": []
    }
  ]
}