{
  "nbformat": 4,
  "nbformat_minor": 0,
  "metadata": {
    "colab": {
      "provenance": []
    },
    "kernelspec": {
      "name": "python3",
      "display_name": "Python 3"
    },
    "language_info": {
      "name": "python"
    }
  },
  "cells": [
    {
      "cell_type": "code",
      "execution_count": null,
      "metadata": {
        "id": "n9KyV6Wl5ZT7"
      },
      "outputs": [],
      "source": [
        "def compute_output(w,x):\n",
        "  z = 0.0\n",
        "  for i in range(len(w)):\n",
        "    z += w[i] * x[i]\n",
        "  if z < 0:\n",
        "    return -1\n",
        "  else:\n",
        "    return 1"
      ]
    },
    {
      "cell_type": "code",
      "source": [
        "compute_output([0.9,-0.6,-0.5],[1.0,-1.0,-1.0])"
      ],
      "metadata": {
        "colab": {
          "base_uri": "https://localhost:8080/"
        },
        "id": "G0dBVL_755PS",
        "outputId": "633e84b1-05a6-4a5e-aece-577646ac7893"
      },
      "execution_count": null,
      "outputs": [
        {
          "output_type": "execute_result",
          "data": {
            "text/plain": [
              "1"
            ]
          },
          "metadata": {},
          "execution_count": 5
        }
      ]
    },
    {
      "cell_type": "code",
      "source": [
        "import random\n",
        "\n",
        "def show_learning(w):\n",
        "    print('w0 =', '%5.2f' % w[0], ', w1 =', '%5.2f' % w[1],\n",
        "          ', w2 =', '%5.2f' % w[2])\n",
        "\n",
        "# Define variables needed to control training process.\n",
        "random.seed(7) # To make repeatable\n",
        "LEARNING_RATE = 0.1\n",
        "index_list = [0, 1, 2, 3] # Used to randomize order\n",
        "\n",
        "# Define training examples.\n",
        "x_train = [(1.0, -1.0, -1.0), (1.0, -1.0, 1.0),\n",
        "    (1.0, 1.0, -1.0), (1.0, 1.0, 1.0)] # Inputs\n",
        "y_train = [1.0, 1.0, 1.0, -1.0] # Output (ground truth)\n",
        "\n",
        "# Define perceptron weights.\n",
        "w = [0.2, -0.6, 0.25] # Initialize to some “random” numbers\n",
        "\n",
        "# Print initial weights.\n",
        "show_learning(w)"
      ],
      "metadata": {
        "colab": {
          "base_uri": "https://localhost:8080/"
        },
        "id": "3Hb7VDXz7W_K",
        "outputId": "0c54d475-0d2d-4791-cfb3-7186cb18291a"
      },
      "execution_count": null,
      "outputs": [
        {
          "output_type": "stream",
          "name": "stdout",
          "text": [
            "w0 =  0.20 , w1 = -0.60 , w2 =  0.25\n"
          ]
        }
      ]
    },
    {
      "cell_type": "code",
      "source": [
        "# Perceptron training loop.\n",
        "all_correct = False\n",
        "while not all_correct:\n",
        "    all_correct = True\n",
        "    random.shuffle(index_list) # Randomize order\n",
        "    for i in index_list:\n",
        "        x = x_train[i]\n",
        "        y = y_train[i]\n",
        "        p_out = compute_output(w, x) # Perceptron function\n",
        "\n",
        "        if y != p_out: # Update weights when wrong\n",
        "            for j in range(0, len(w)):\n",
        "                w[j] += (y * LEARNING_RATE * x[j])\n",
        "            all_correct = False\n",
        "            show_learning(w) # Show updated weights"
      ],
      "metadata": {
        "colab": {
          "base_uri": "https://localhost:8080/"
        },
        "id": "K_9DQejZ_iy5",
        "outputId": "e4055751-8cc2-4e11-c200-855f21b94f65"
      },
      "execution_count": null,
      "outputs": [
        {
          "output_type": "stream",
          "name": "stdout",
          "text": [
            "w0 =  0.30 , w1 = -0.50 , w2 =  0.15\n",
            "w0 =  0.40 , w1 = -0.40 , w2 =  0.05\n",
            "w0 =  0.30 , w1 = -0.50 , w2 = -0.05\n",
            "w0 =  0.40 , w1 = -0.40 , w2 = -0.15\n"
          ]
        }
      ]
    },
    {
      "cell_type": "code",
      "source": [
        "import matplotlib.pyplot as plt\n",
        "import random\n",
        "\n",
        "# Define variables needed for plotting.\n",
        "color_list = ['r-', 'm-', 'y-', 'c-', 'b-', 'g-']\n",
        "color_index = 0\n",
        "\n",
        "def show_learning(w):\n",
        "    global color_index\n",
        "    print('w0 =', '%5.2f' % w[0], ', w1 =', '%5.2f' % w[1],\n",
        "          ', w2 =', '%5.2f' % w[2])\n",
        "    if color_index == 0:\n",
        "        plt.plot([1.0], [1.0], 'b_', markersize=12)\n",
        "        plt.plot([-1.0, 1.0, -1.0], [1.0, -1.0, -1.0],\n",
        "                 'r+', markersize=12)\n",
        "        plt.axis([-2, 2, -2, 2])\n",
        "        plt.xlabel('x1')\n",
        "        plt.ylabel('x2')\n",
        "    x = [-2.0, 2.0]\n",
        "    if abs(w[2]) < 1e-5:\n",
        "        y = [-w[1]/(1e-5)*(-2.0)+(-w[0]/(1e-5)),\n",
        "            -w[1]/(1e-5)*(2.0)+(-w[0]/(1e-5))]\n",
        "    else:\n",
        "        y = [-w[1]/w[2]*(-2.0)+(-w[0]/w[2]),\n",
        "            -w[1]/w[2]*(2.0)+(-w[0]/w[2])]\n",
        "    plt.plot(x, y, color_list[color_index])\n",
        "    if color_index < (len(color_list) - 1):\n",
        "        color_index += 1\n",
        "\n",
        "# Define variables needed to control training process.\n",
        "random.seed(7) # To make repeatable\n",
        "LEARNING_RATE = 0.1\n",
        "index_list = [0, 1, 2, 3] # Used to randomize order\n",
        "\n",
        "# Define training examples.\n",
        "x_train = [(1.0, -1.0, -1.0), (1.0, -1.0, 1.0),\n",
        "    (1.0, 1.0, -1.0), (1.0, 1.0, 1.0)] # Inputs\n",
        "y_train = [1.0, 1.0, 1.0, -1.0] # Output (ground truth)\n",
        "\n",
        "# Define perceptron weights.\n",
        "w = [0.2, -0.6, 0.25] # Initialize to some “random” numbers\n",
        "\n",
        "# Print initial weights.\n",
        "show_learning(w)"
      ],
      "metadata": {
        "colab": {
          "base_uri": "https://localhost:8080/",
          "height": 472
        },
        "id": "12VygGY2AFke",
        "outputId": "5bf7daff-0dc1-4756-b57b-3622c69b56df"
      },
      "execution_count": null,
      "outputs": [
        {
          "output_type": "stream",
          "name": "stdout",
          "text": [
            "w0 =  0.20 , w1 = -0.60 , w2 =  0.25\n"
          ]
        },
        {
          "output_type": "display_data",
          "data": {
            "text/plain": [
              "<Figure size 640x480 with 1 Axes>"
            ],
            "image/png": "[encoded data removed]"
          },
          "metadata": {}
        }
      ]
    },
    {
      "cell_type": "code",
      "source": [
        "import numpy as np\n",
        "\n",
        "def compute_output_vector(w,x):\n",
        "  z = np.dot(w,x)\n",
        "  return sign(z)"
      ],
      "metadata": {
        "id": "cr1_LKMAErYy"
      },
      "execution_count": null,
      "outputs": []
    },
    {
      "cell_type": "code",
      "source": [],
      "metadata": {
        "id": "gFImPE-qSmpK"
      },
      "execution_count": null,
      "outputs": []
    }
  ]
}